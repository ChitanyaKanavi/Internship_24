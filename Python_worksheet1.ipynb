{
 "cells": [
  {
   "cell_type": "code",
   "execution_count": 1,
   "id": "5bb2e721",
   "metadata": {},
   "outputs": [
    {
     "name": "stdout",
     "output_type": "stream",
     "text": [
      " Please enter any Number : 22\n",
      "The fact of 22  = 1124000727777607680000\n"
     ]
    }
   ],
   "source": [
    "# factorial of a number\n",
    "\n",
    "import math \n",
    "\n",
    "a = int(input(\" Please enter any Number : \"))\n",
    "\n",
    "fact = math.factorial(a)\n",
    "print(\"The fact of %d  = %d\" %(a, fact))"
   ]
  },
  {
   "cell_type": "code",
   "execution_count": 3,
   "id": "3d1a9c04",
   "metadata": {},
   "outputs": [
    {
     "name": "stdout",
     "output_type": "stream",
     "text": [
      "Enter any number : 33\n",
      "33 is a composite number\n"
     ]
    }
   ],
   "source": [
    "#number is prime or composite.\n",
    "\n",
    "num = int(input(\"Enter any number : \"))\n",
    "if num > 1:\n",
    "    for i in range(2, num):\n",
    "       if (num % i) == 0:\n",
    "           print(num, \"is a composite number\")\n",
    "           break\n",
    "    else:\n",
    "       print(num, \"is a PRIME number\")\n",
    "elif num == 0 or 1:\n",
    "    print(num, \"is a neither prime NOR composite number\")\n",
    "else:\n",
    "    print(num, \"is NOT a prime number it is a COMPOSITE number\")"
   ]
  },
  {
   "cell_type": "code",
   "execution_count": 1,
   "id": "577d16ce",
   "metadata": {},
   "outputs": [
    {
     "name": "stdout",
     "output_type": "stream",
     "text": [
      "Enter string:dddaaaddd\n",
      "The string is a palindrome\n"
     ]
    }
   ],
   "source": [
    "#string is palindrome or not\n",
    "\n",
    "\n",
    "str=input(\"Enter string:\")\n",
    "if(str==str[::-1]):\n",
    "   print(\"The string is a palindrome\")\n",
    "else:\n",
    "   print(\"The string isn't a palindrome\")"
   ]
  },
  {
   "cell_type": "code",
   "execution_count": 2,
   "id": "e224abc7",
   "metadata": {},
   "outputs": [
    {
     "name": "stdout",
     "output_type": "stream",
     "text": [
      "enter the lengths:\n",
      "a: 33\n",
      "b: 333\n",
      "The length of the hypotenuse is: 334.63114021262277\n"
     ]
    }
   ],
   "source": [
    "# third side of right-angled triangle from two given sides.\n",
    "\n",
    "from math import sqrt\n",
    "print(\"enter the lengths:\")\n",
    "a = float(input(\"a: \"))\n",
    "b = float(input(\"b: \"))\n",
    "c = sqrt(a**2 + b**2)\n",
    "print(\"The length of the hypotenuse is:\", c )"
   ]
  },
  {
   "cell_type": "code",
   "execution_count": 3,
   "id": "6107d47a",
   "metadata": {},
   "outputs": [
    {
     "name": "stdout",
     "output_type": "stream",
     "text": [
      "Enter the string: thee\n",
      "Please enter the char to find frequency of the character\n",
      "e\n",
      "The frequency of the  e in the string is:  2\n"
     ]
    }
   ],
   "source": [
    "# frequency of each of the characters present in a given string\n",
    "\n",
    "string=input(\"Enter the string: \")\n",
    "char=input(\"Please enter the char to find frequency of the character\\n\")\n",
    "count=0\n",
    "for i in range(len(string)):\n",
    "    if(string[i]==char):\n",
    "        count=count+1\n",
    "print(\"The frequency of the \",char,\"in the string is: \",count)"
   ]
  },
  {
   "cell_type": "code",
   "execution_count": null,
   "id": "75813127",
   "metadata": {},
   "outputs": [],
   "source": []
  }
 ],
 "metadata": {
  "kernelspec": {
   "display_name": "Python 3 (ipykernel)",
   "language": "python",
   "name": "python3"
  },
  "language_info": {
   "codemirror_mode": {
    "name": "ipython",
    "version": 3
   },
   "file_extension": ".py",
   "mimetype": "text/x-python",
   "name": "python",
   "nbconvert_exporter": "python",
   "pygments_lexer": "ipython3",
   "version": "3.9.7"
  }
 },
 "nbformat": 4,
 "nbformat_minor": 5
}
