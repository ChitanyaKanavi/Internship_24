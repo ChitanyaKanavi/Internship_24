{
 "cells": [
  {
   "cell_type": "markdown",
   "id": "5e927903",
   "metadata": {},
   "source": [
    "### AmbitionBox"
   ]
  },
  {
   "cell_type": "code",
   "execution_count": 19,
   "id": "75c9edf2",
   "metadata": {},
   "outputs": [],
   "source": [
    "import selenium\n",
    "from selenium import webdriver\n",
    "import pandas as pd\n",
    "import warnings\n",
    "import requests\n",
    "warnings.filterwarnings(\"ignore\")\n",
    "import time\n",
    "\n",
    "driver = webdriver.Chrome(r'C:\\Users\\hp\\Downloads\\chromedriver_win32 (1)\\chromedriver.exe')\n",
    "url= 'https://www.ambitionbox.com/'\n",
    "driver.get(url)\n",
    "job = driver.find_element_by_xpath('//a[@class=\"link jobs\"]').click()\n",
    "time.sleep(2)\n",
    "search = driver.find_element_by_xpath('//input[@title=\"Enter Designation, Company or a Skill\"]')\n",
    "search.send_keys(\"Data Scientist\")\n",
    "driver.find_element_by_xpath('//button[@class=\"ab_btn search-btn round\"]').click()\n",
    "\n",
    "time.sleep(2)\n",
    "# location = driver.find_element_by_xpath('/html/body/div/div/div/div[2]/div[2]/div[1]/div/div/div/div[2]')\n",
    "# location.click()"
   ]
  },
  {
   "cell_type": "code",
   "execution_count": 20,
   "id": "996d09bf",
   "metadata": {},
   "outputs": [],
   "source": [
    "# clicking dropdown for location\n",
    "location = driver.find_element_by_xpath('/html/body/div/div/div/div[2]/div[2]/div[1]/div/div/div/div[2]')\n",
    "location.click()"
   ]
  },
  {
   "cell_type": "code",
   "execution_count": 21,
   "id": "5de14f6f",
   "metadata": {},
   "outputs": [],
   "source": [
    "#send value for location as Noida\n",
    "search1 = driver.find_element_by_xpath('//input[@placeholder=\"Search locations\"]')\n",
    "search1.send_keys(\"Noida\")\n"
   ]
  },
  {
   "cell_type": "code",
   "execution_count": 22,
   "id": "df7d4739",
   "metadata": {},
   "outputs": [],
   "source": [
    "#select \"Noida\" location\n",
    "search2 = driver.find_element_by_xpath('//label[@for=\"location_Noida\"]')\n",
    "search2.click()"
   ]
  },
  {
   "cell_type": "code",
   "execution_count": 23,
   "id": "b27ada02",
   "metadata": {},
   "outputs": [
    {
     "data": {
      "text/plain": [
       "['Data Scientist',\n",
       " 'Urgent Requirement || Data Scientist || Noida',\n",
       " 'EY GDS - Assistant Director - Data Science - AI/ML (15-20 yrs)',\n",
       " 'Opportunity | Tavant India',\n",
       " 'Looking For Senior Data Scientist For Denave',\n",
       " 'Lead Assistant Manager',\n",
       " 'CogniTensor - Data Scientist (1-2 yrs)',\n",
       " 'Data Scientist | Data Engineer | Machine Learning',\n",
       " 'Data Scientist - Machine Learning (5-14 yrs)',\n",
       " 'Manager Data Scientist']"
      ]
     },
     "execution_count": 23,
     "metadata": {},
     "output_type": "execute_result"
    }
   ],
   "source": [
    "#\n",
    "titles=[]\n",
    "title = driver.find_elements_by_xpath('//a[@class=\"title noclick\"]')\n",
    "for i in title:\n",
    "    titles.append(i.text)\n",
    "titles"
   ]
  },
  {
   "cell_type": "code",
   "execution_count": 44,
   "id": "0e1f9ff6",
   "metadata": {},
   "outputs": [
    {
     "data": {
      "text/plain": [
       "['17d ago',\n",
       " '30d ago',\n",
       " '1mon ago',\n",
       " '11d ago',\n",
       " '11d ago',\n",
       " '24d ago',\n",
       " '5d ago',\n",
       " '1mon ago',\n",
       " '9d ago',\n",
       " '1mon ago']"
      ]
     },
     "execution_count": 44,
     "metadata": {},
     "output_type": "execute_result"
    }
   ],
   "source": [
    "import re \n",
    "dates=[]\n",
    "date = driver.find_elements_by_xpath('//span[@class=\"body-small-l\"]')\n",
    "for j in date:\n",
    "    dates.append(j.text)\n",
    "\n",
    "\n",
    "len(dates)\n",
    "def Filter(dates, substr):\n",
    "    substr = ['ago']\n",
    "    return [str for str in dates if\n",
    "             any(sub in str for sub in substr)]\n",
    "a=[]\n",
    "a=(Filter(dates, substr))\n",
    "a\n"
   ]
  },
  {
   "cell_type": "code",
   "execution_count": 7,
   "id": "65e2e22b",
   "metadata": {},
   "outputs": [
    {
     "data": {
      "text/plain": [
       "['3.9', '3.8', '3.7', '4.0', '4.0', '3.8', '3.8', '4.2', '4.1', '4.0']"
      ]
     },
     "execution_count": 7,
     "metadata": {},
     "output_type": "execute_result"
    }
   ],
   "source": [
    "rating=[]\n",
    "rate = driver.find_elements_by_xpath('//span[@class=\"body-small\"]')\n",
    "for k in rate:\n",
    "    rating.append(k.text)\n",
    "rating"
   ]
  },
  {
   "cell_type": "code",
   "execution_count": 45,
   "id": "291a4a91",
   "metadata": {},
   "outputs": [
    {
     "data": {
      "text/html": [
       "<div>\n",
       "<style scoped>\n",
       "    .dataframe tbody tr th:only-of-type {\n",
       "        vertical-align: middle;\n",
       "    }\n",
       "\n",
       "    .dataframe tbody tr th {\n",
       "        vertical-align: top;\n",
       "    }\n",
       "\n",
       "    .dataframe thead th {\n",
       "        text-align: right;\n",
       "    }\n",
       "</style>\n",
       "<table border=\"1\" class=\"dataframe\">\n",
       "  <thead>\n",
       "    <tr style=\"text-align: right;\">\n",
       "      <th></th>\n",
       "      <th>Title</th>\n",
       "      <th>Job Posted On</th>\n",
       "      <th>Rating</th>\n",
       "    </tr>\n",
       "  </thead>\n",
       "  <tbody>\n",
       "    <tr>\n",
       "      <th>0</th>\n",
       "      <td>Data Scientist</td>\n",
       "      <td>17d ago</td>\n",
       "      <td>3.9</td>\n",
       "    </tr>\n",
       "    <tr>\n",
       "      <th>1</th>\n",
       "      <td>Urgent Requirement || Data Scientist || Noida</td>\n",
       "      <td>30d ago</td>\n",
       "      <td>3.8</td>\n",
       "    </tr>\n",
       "    <tr>\n",
       "      <th>2</th>\n",
       "      <td>EY GDS - Assistant Director - Data Science - A...</td>\n",
       "      <td>1mon ago</td>\n",
       "      <td>3.7</td>\n",
       "    </tr>\n",
       "    <tr>\n",
       "      <th>3</th>\n",
       "      <td>Opportunity | Tavant India</td>\n",
       "      <td>11d ago</td>\n",
       "      <td>4.0</td>\n",
       "    </tr>\n",
       "    <tr>\n",
       "      <th>4</th>\n",
       "      <td>Looking For Senior Data Scientist For Denave</td>\n",
       "      <td>11d ago</td>\n",
       "      <td>4.0</td>\n",
       "    </tr>\n",
       "    <tr>\n",
       "      <th>5</th>\n",
       "      <td>Lead Assistant Manager</td>\n",
       "      <td>24d ago</td>\n",
       "      <td>3.8</td>\n",
       "    </tr>\n",
       "    <tr>\n",
       "      <th>6</th>\n",
       "      <td>CogniTensor - Data Scientist (1-2 yrs)</td>\n",
       "      <td>5d ago</td>\n",
       "      <td>3.8</td>\n",
       "    </tr>\n",
       "    <tr>\n",
       "      <th>7</th>\n",
       "      <td>Data Scientist | Data Engineer | Machine Learning</td>\n",
       "      <td>1mon ago</td>\n",
       "      <td>4.2</td>\n",
       "    </tr>\n",
       "    <tr>\n",
       "      <th>8</th>\n",
       "      <td>Data Scientist - Machine Learning (5-14 yrs)</td>\n",
       "      <td>9d ago</td>\n",
       "      <td>4.1</td>\n",
       "    </tr>\n",
       "    <tr>\n",
       "      <th>9</th>\n",
       "      <td>Manager Data Scientist</td>\n",
       "      <td>1mon ago</td>\n",
       "      <td>4.0</td>\n",
       "    </tr>\n",
       "  </tbody>\n",
       "</table>\n",
       "</div>"
      ],
      "text/plain": [
       "                                               Title Job Posted On Rating\n",
       "0                                     Data Scientist       17d ago    3.9\n",
       "1      Urgent Requirement || Data Scientist || Noida       30d ago    3.8\n",
       "2  EY GDS - Assistant Director - Data Science - A...      1mon ago    3.7\n",
       "3                         Opportunity | Tavant India       11d ago    4.0\n",
       "4       Looking For Senior Data Scientist For Denave       11d ago    4.0\n",
       "5                             Lead Assistant Manager       24d ago    3.8\n",
       "6             CogniTensor - Data Scientist (1-2 yrs)        5d ago    3.8\n",
       "7  Data Scientist | Data Engineer | Machine Learning      1mon ago    4.2\n",
       "8       Data Scientist - Machine Learning (5-14 yrs)        9d ago    4.1\n",
       "9                             Manager Data Scientist      1mon ago    4.0"
      ]
     },
     "execution_count": 45,
     "metadata": {},
     "output_type": "execute_result"
    }
   ],
   "source": [
    "data = pd.DataFrame()\n",
    "data['Title']=titles\n",
    "data['Job Posted On']=a\n",
    "data['Rating']=rating\n",
    "data"
   ]
  }
 ],
 "metadata": {
  "kernelspec": {
   "display_name": "Python 3 (ipykernel)",
   "language": "python",
   "name": "python3"
  },
  "language_info": {
   "codemirror_mode": {
    "name": "ipython",
    "version": 3
   },
   "file_extension": ".py",
   "mimetype": "text/x-python",
   "name": "python",
   "nbconvert_exporter": "python",
   "pygments_lexer": "ipython3",
   "version": "3.9.7"
  }
 },
 "nbformat": 4,
 "nbformat_minor": 5
}
