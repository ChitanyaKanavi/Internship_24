{
 "cells": [
  {
   "cell_type": "code",
   "execution_count": 3,
   "id": "4363d6a5",
   "metadata": {},
   "outputs": [
    {
     "ename": "WebDriverException",
     "evalue": "Message: chrome not reachable\n  (Session info: chrome=98.0.4758.102)\nStacktrace:\nBacktrace:\n\tOrdinal0 [0x00F37AC3+2587331]\n\tOrdinal0 [0x00ECADD1+2141649]\n\tOrdinal0 [0x00DC3A80+1063552]\n\tOrdinal0 [0x00DB8222+1016354]\n\tOrdinal0 [0x00DB8A58+1018456]\n\tOrdinal0 [0x00DBA292+1024658]\n\tOrdinal0 [0x00DB3F79+999289]\n\tOrdinal0 [0x00DC4EF0+1068784]\n\tOrdinal0 [0x00E181D2+1409490]\n\tOrdinal0 [0x00E084A6+1344678]\n\tOrdinal0 [0x00DE53F6+1201142]\n\tOrdinal0 [0x00DE62E6+1204966]\n\tGetHandleVerifier [0x010DDF22+1680738]\n\tGetHandleVerifier [0x01190DBC+2413564]\n\tGetHandleVerifier [0x00FCD151+563089]\n\tGetHandleVerifier [0x00FCBF13+558419]\n\tOrdinal0 [0x00ED081E+2164766]\n\tOrdinal0 [0x00ED5508+2184456]\n\tOrdinal0 [0x00ED5650+2184784]\n\tOrdinal0 [0x00EDF5BC+2225596]\n\tBaseThreadInitThunk [0x75086739+25]\n\tRtlGetFullPathName_UEx [0x76EC8E7F+1215]\n\tRtlGetFullPathName_UEx [0x76EC8E4D+1165]\n",
     "output_type": "error",
     "traceback": [
      "\u001b[1;31m---------------------------------------------------------------------------\u001b[0m",
      "\u001b[1;31mWebDriverException\u001b[0m                        Traceback (most recent call last)",
      "\u001b[1;32m~\\AppData\\Local\\Temp/ipykernel_11816/704998769.py\u001b[0m in \u001b[0;36m<module>\u001b[1;34m\u001b[0m\n\u001b[0;32m     17\u001b[0m \u001b[0mtime\u001b[0m\u001b[1;33m.\u001b[0m\u001b[0msleep\u001b[0m\u001b[1;33m(\u001b[0m\u001b[1;36m5\u001b[0m\u001b[1;33m)\u001b[0m\u001b[1;33m\u001b[0m\u001b[1;33m\u001b[0m\u001b[0m\n\u001b[0;32m     18\u001b[0m \u001b[1;33m\u001b[0m\u001b[0m\n\u001b[1;32m---> 19\u001b[1;33m \u001b[0mhref_urls\u001b[0m \u001b[1;33m=\u001b[0m \u001b[1;33m[\u001b[0m\u001b[0mmy_elem\u001b[0m\u001b[1;33m.\u001b[0m\u001b[0mget_attribute\u001b[0m\u001b[1;33m(\u001b[0m\u001b[1;34m\"href\"\u001b[0m\u001b[1;33m)\u001b[0m \u001b[1;32mfor\u001b[0m \u001b[0mmy_elem\u001b[0m \u001b[1;32min\u001b[0m \u001b[0mdriver\u001b[0m\u001b[1;33m.\u001b[0m\u001b[0mfind_elements_by_css_selector\u001b[0m\u001b[1;33m(\u001b[0m\u001b[1;34m\"nav.yFHi8N > a\"\u001b[0m\u001b[1;33m)\u001b[0m\u001b[1;33m]\u001b[0m\u001b[1;33m\u001b[0m\u001b[1;33m\u001b[0m\u001b[0m\n\u001b[0m\u001b[0;32m     20\u001b[0m \u001b[0mbrand\u001b[0m\u001b[1;33m=\u001b[0m\u001b[1;33m[\u001b[0m\u001b[1;33m]\u001b[0m\u001b[1;33m\u001b[0m\u001b[1;33m\u001b[0m\u001b[0m\n\u001b[0;32m     21\u001b[0m \u001b[0mdes\u001b[0m\u001b[1;33m=\u001b[0m\u001b[1;33m[\u001b[0m\u001b[1;33m]\u001b[0m\u001b[1;33m\u001b[0m\u001b[1;33m\u001b[0m\u001b[0m\n",
      "\u001b[1;32m~\\anaconda3\\lib\\site-packages\\selenium\\webdriver\\remote\\webdriver.py\u001b[0m in \u001b[0;36mfind_elements_by_css_selector\u001b[1;34m(self, css_selector)\u001b[0m\n\u001b[0;32m    829\u001b[0m             \u001b[0mstacklevel\u001b[0m\u001b[1;33m=\u001b[0m\u001b[1;36m2\u001b[0m\u001b[1;33m,\u001b[0m\u001b[1;33m\u001b[0m\u001b[1;33m\u001b[0m\u001b[0m\n\u001b[0;32m    830\u001b[0m         )\n\u001b[1;32m--> 831\u001b[1;33m         \u001b[1;32mreturn\u001b[0m \u001b[0mself\u001b[0m\u001b[1;33m.\u001b[0m\u001b[0mfind_elements\u001b[0m\u001b[1;33m(\u001b[0m\u001b[0mby\u001b[0m\u001b[1;33m=\u001b[0m\u001b[0mBy\u001b[0m\u001b[1;33m.\u001b[0m\u001b[0mCSS_SELECTOR\u001b[0m\u001b[1;33m,\u001b[0m \u001b[0mvalue\u001b[0m\u001b[1;33m=\u001b[0m\u001b[0mcss_selector\u001b[0m\u001b[1;33m)\u001b[0m\u001b[1;33m\u001b[0m\u001b[1;33m\u001b[0m\u001b[0m\n\u001b[0m\u001b[0;32m    832\u001b[0m \u001b[1;33m\u001b[0m\u001b[0m\n\u001b[0;32m    833\u001b[0m     \u001b[1;32mdef\u001b[0m \u001b[0mpin_script\u001b[0m\u001b[1;33m(\u001b[0m\u001b[0mself\u001b[0m\u001b[1;33m,\u001b[0m \u001b[0mscript\u001b[0m\u001b[1;33m,\u001b[0m \u001b[0mscript_key\u001b[0m\u001b[1;33m=\u001b[0m\u001b[1;32mNone\u001b[0m\u001b[1;33m)\u001b[0m \u001b[1;33m->\u001b[0m \u001b[0mScriptKey\u001b[0m\u001b[1;33m:\u001b[0m\u001b[1;33m\u001b[0m\u001b[1;33m\u001b[0m\u001b[0m\n",
      "\u001b[1;32m~\\anaconda3\\lib\\site-packages\\selenium\\webdriver\\remote\\webdriver.py\u001b[0m in \u001b[0;36mfind_elements\u001b[1;34m(self, by, value)\u001b[0m\n\u001b[0;32m   1277\u001b[0m         \u001b[1;31m# Return empty list if driver returns null\u001b[0m\u001b[1;33m\u001b[0m\u001b[1;33m\u001b[0m\u001b[0m\n\u001b[0;32m   1278\u001b[0m         \u001b[1;31m# See https://github.com/SeleniumHQ/selenium/issues/4555\u001b[0m\u001b[1;33m\u001b[0m\u001b[1;33m\u001b[0m\u001b[0m\n\u001b[1;32m-> 1279\u001b[1;33m         return self.execute(Command.FIND_ELEMENTS, {\n\u001b[0m\u001b[0;32m   1280\u001b[0m             \u001b[1;34m'using'\u001b[0m\u001b[1;33m:\u001b[0m \u001b[0mby\u001b[0m\u001b[1;33m,\u001b[0m\u001b[1;33m\u001b[0m\u001b[1;33m\u001b[0m\u001b[0m\n\u001b[0;32m   1281\u001b[0m             'value': value})['value'] or []\n",
      "\u001b[1;32m~\\anaconda3\\lib\\site-packages\\selenium\\webdriver\\remote\\webdriver.py\u001b[0m in \u001b[0;36mexecute\u001b[1;34m(self, driver_command, params)\u001b[0m\n\u001b[0;32m    422\u001b[0m         \u001b[0mresponse\u001b[0m \u001b[1;33m=\u001b[0m \u001b[0mself\u001b[0m\u001b[1;33m.\u001b[0m\u001b[0mcommand_executor\u001b[0m\u001b[1;33m.\u001b[0m\u001b[0mexecute\u001b[0m\u001b[1;33m(\u001b[0m\u001b[0mdriver_command\u001b[0m\u001b[1;33m,\u001b[0m \u001b[0mparams\u001b[0m\u001b[1;33m)\u001b[0m\u001b[1;33m\u001b[0m\u001b[1;33m\u001b[0m\u001b[0m\n\u001b[0;32m    423\u001b[0m         \u001b[1;32mif\u001b[0m \u001b[0mresponse\u001b[0m\u001b[1;33m:\u001b[0m\u001b[1;33m\u001b[0m\u001b[1;33m\u001b[0m\u001b[0m\n\u001b[1;32m--> 424\u001b[1;33m             \u001b[0mself\u001b[0m\u001b[1;33m.\u001b[0m\u001b[0merror_handler\u001b[0m\u001b[1;33m.\u001b[0m\u001b[0mcheck_response\u001b[0m\u001b[1;33m(\u001b[0m\u001b[0mresponse\u001b[0m\u001b[1;33m)\u001b[0m\u001b[1;33m\u001b[0m\u001b[1;33m\u001b[0m\u001b[0m\n\u001b[0m\u001b[0;32m    425\u001b[0m             response['value'] = self._unwrap_value(\n\u001b[0;32m    426\u001b[0m                 response.get('value', None))\n",
      "\u001b[1;32m~\\anaconda3\\lib\\site-packages\\selenium\\webdriver\\remote\\errorhandler.py\u001b[0m in \u001b[0;36mcheck_response\u001b[1;34m(self, response)\u001b[0m\n\u001b[0;32m    245\u001b[0m                 \u001b[0malert_text\u001b[0m \u001b[1;33m=\u001b[0m \u001b[0mvalue\u001b[0m\u001b[1;33m[\u001b[0m\u001b[1;34m'alert'\u001b[0m\u001b[1;33m]\u001b[0m\u001b[1;33m.\u001b[0m\u001b[0mget\u001b[0m\u001b[1;33m(\u001b[0m\u001b[1;34m'text'\u001b[0m\u001b[1;33m)\u001b[0m\u001b[1;33m\u001b[0m\u001b[1;33m\u001b[0m\u001b[0m\n\u001b[0;32m    246\u001b[0m             \u001b[1;32mraise\u001b[0m \u001b[0mexception_class\u001b[0m\u001b[1;33m(\u001b[0m\u001b[0mmessage\u001b[0m\u001b[1;33m,\u001b[0m \u001b[0mscreen\u001b[0m\u001b[1;33m,\u001b[0m \u001b[0mstacktrace\u001b[0m\u001b[1;33m,\u001b[0m \u001b[0malert_text\u001b[0m\u001b[1;33m)\u001b[0m  \u001b[1;31m# type: ignore[call-arg]  # mypy is not smart enough here\u001b[0m\u001b[1;33m\u001b[0m\u001b[1;33m\u001b[0m\u001b[0m\n\u001b[1;32m--> 247\u001b[1;33m         \u001b[1;32mraise\u001b[0m \u001b[0mexception_class\u001b[0m\u001b[1;33m(\u001b[0m\u001b[0mmessage\u001b[0m\u001b[1;33m,\u001b[0m \u001b[0mscreen\u001b[0m\u001b[1;33m,\u001b[0m \u001b[0mstacktrace\u001b[0m\u001b[1;33m)\u001b[0m\u001b[1;33m\u001b[0m\u001b[1;33m\u001b[0m\u001b[0m\n\u001b[0m\u001b[0;32m    248\u001b[0m \u001b[1;33m\u001b[0m\u001b[0m\n\u001b[0;32m    249\u001b[0m     \u001b[1;32mdef\u001b[0m \u001b[0m_value_or_default\u001b[0m\u001b[1;33m(\u001b[0m\u001b[0mself\u001b[0m\u001b[1;33m,\u001b[0m \u001b[0mobj\u001b[0m\u001b[1;33m:\u001b[0m \u001b[0mMapping\u001b[0m\u001b[1;33m[\u001b[0m\u001b[0m_KT\u001b[0m\u001b[1;33m,\u001b[0m \u001b[0m_VT\u001b[0m\u001b[1;33m]\u001b[0m\u001b[1;33m,\u001b[0m \u001b[0mkey\u001b[0m\u001b[1;33m:\u001b[0m \u001b[0m_KT\u001b[0m\u001b[1;33m,\u001b[0m \u001b[0mdefault\u001b[0m\u001b[1;33m:\u001b[0m \u001b[0m_VT\u001b[0m\u001b[1;33m)\u001b[0m \u001b[1;33m->\u001b[0m \u001b[0m_VT\u001b[0m\u001b[1;33m:\u001b[0m\u001b[1;33m\u001b[0m\u001b[1;33m\u001b[0m\u001b[0m\n",
      "\u001b[1;31mWebDriverException\u001b[0m: Message: chrome not reachable\n  (Session info: chrome=98.0.4758.102)\nStacktrace:\nBacktrace:\n\tOrdinal0 [0x00F37AC3+2587331]\n\tOrdinal0 [0x00ECADD1+2141649]\n\tOrdinal0 [0x00DC3A80+1063552]\n\tOrdinal0 [0x00DB8222+1016354]\n\tOrdinal0 [0x00DB8A58+1018456]\n\tOrdinal0 [0x00DBA292+1024658]\n\tOrdinal0 [0x00DB3F79+999289]\n\tOrdinal0 [0x00DC4EF0+1068784]\n\tOrdinal0 [0x00E181D2+1409490]\n\tOrdinal0 [0x00E084A6+1344678]\n\tOrdinal0 [0x00DE53F6+1201142]\n\tOrdinal0 [0x00DE62E6+1204966]\n\tGetHandleVerifier [0x010DDF22+1680738]\n\tGetHandleVerifier [0x01190DBC+2413564]\n\tGetHandleVerifier [0x00FCD151+563089]\n\tGetHandleVerifier [0x00FCBF13+558419]\n\tOrdinal0 [0x00ED081E+2164766]\n\tOrdinal0 [0x00ED5508+2184456]\n\tOrdinal0 [0x00ED5650+2184784]\n\tOrdinal0 [0x00EDF5BC+2225596]\n\tBaseThreadInitThunk [0x75086739+25]\n\tRtlGetFullPathName_UEx [0x76EC8E7F+1215]\n\tRtlGetFullPathName_UEx [0x76EC8E4D+1165]\n"
     ]
    }
   ],
   "source": [
    "import selenium \n",
    "from selenium import webdriver\n",
    "import pandas as pd\n",
    "import warnings\n",
    "warnings.filterwarnings(\"ignore\")\n",
    "import time\n",
    "import requests\n",
    "\n",
    "driver = webdriver.Chrome(r'C:\\Users\\hp\\Downloads\\chromedriver_win32 (1)\\chromedriver.exe')\n",
    "# driver = webdriver.Chrome('chromedriver.exe')\n",
    "url= \"https://www.flipkart.com/\"\n",
    "driver.get(url)\n",
    "button = driver.find_element_by_xpath('/html/body/div[2]/div/div/button').click()\n",
    "search=driver.find_element_by_class_name(\"_3704LK\")\n",
    "search.send_keys(\"sunglasses\")\n",
    "search1=driver.find_element_by_class_name(\"L0Z3Pu\").click()      # search\n",
    "time.sleep(5)\n",
    "\n",
    "href_urls = [my_elem.get_attribute(\"href\") for my_elem in driver.find_elements_by_css_selector(\"nav.yFHi8N > a\")]\n",
    "brand=[]\n",
    "des=[]\n",
    "prices=[]\n",
    "offers=[]\n",
    "\n",
    "for i in range(0,3):\n",
    "    page = requests.get(url)   #url page\n",
    "    driver = webdriver.Chrome(r'C:\\Users\\hp\\Downloads\\chromedriver_win32 (1)\\chromedriver.exe')\n",
    "    url= href_urls[i]\n",
    "    driver.get(url)\n",
    "    time.sleep(2) \n",
    "    brand_name = driver.find_elements_by_xpath('//div[@class=\"_2WkVRV\"]')\n",
    "    for l in brand_name:\n",
    "        brand.append(l.text)\n",
    "    \n",
    "    describe = driver.find_elements_by_xpath('//a[@class=\"IRpwTa\"]')\n",
    "    for j in describe:\n",
    "        if j.text == ' ':\n",
    "            des.append(\"No offer found\")\n",
    "        else:\n",
    "            des.append(j.text)\n",
    "    \n",
    "    price = driver.find_elements_by_xpath('//div[@class=\"_30jeq3\"]')\n",
    "    for k in price:\n",
    "        prices.append(k.text)\n",
    "        \n",
    "    offer = driver.find_elements_by_xpath('//div[@class=\"_3Ay6Sb\"]')\n",
    "    for m in offer:\n",
    "        offers.append(m.text)\n",
    "\n",
    "\n",
    "df = pd.DataFrame()\n",
    "df['Brand']= brand\n",
    "df['Price']= prices\n",
    "df['Offer']= offers\n",
    "df['Describe']=des\n",
    "df.head(100)"
   ]
  },
  {
   "cell_type": "code",
   "execution_count": 163,
   "id": "b000d283",
   "metadata": {},
   "outputs": [
    {
     "name": "stdout",
     "output_type": "stream",
     "text": [
      "120\n",
      "120\n",
      "120\n",
      "119\n"
     ]
    }
   ],
   "source": [
    "print(len(offers))\n",
    "print(len(prices))\n",
    "print(len(brand))\n",
    "print(len(des))"
   ]
  },
  {
   "cell_type": "code",
   "execution_count": null,
   "id": "7aa0bee5",
   "metadata": {},
   "outputs": [],
   "source": []
  }
 ],
 "metadata": {
  "kernelspec": {
   "display_name": "Python 3 (ipykernel)",
   "language": "python",
   "name": "python3"
  },
  "language_info": {
   "codemirror_mode": {
    "name": "ipython",
    "version": 3
   },
   "file_extension": ".py",
   "mimetype": "text/x-python",
   "name": "python",
   "nbconvert_exporter": "python",
   "pygments_lexer": "ipython3",
   "version": "3.9.7"
  }
 },
 "nbformat": 4,
 "nbformat_minor": 5
}
